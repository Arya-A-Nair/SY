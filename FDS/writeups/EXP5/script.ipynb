{
 "cells": [
  {
   "cell_type": "code",
   "execution_count": 5,
   "metadata": {},
   "outputs": [],
   "source": [
    "import matplotlib.pyplot as plt\n",
    "import pandas as pd\n",
    "\n",
    "df=pd.read_csv('data.csv')\n",
    "viewsavg3=df['Avg. 3 Day'].fillna(0)\n",
    "viewsavg1=df['Avg. 1 Day'].fillna(0)"
   ]
  },
  {
   "cell_type": "code",
   "execution_count": 9,
   "metadata": {},
   "outputs": [
    {
     "name": "stdout",
     "output_type": "stream",
     "text": [
      "289849227.1960106\n"
     ]
    }
   ],
   "source": [
    "manhattan=0\n",
    "for i in range(len(viewsavg1)):\n",
    "    manhattan+=abs(viewsavg1[i]-viewsavg3[i])\n",
    "\n",
    "print(manhattan)\n",
    "\n"
   ]
  },
  {
   "cell_type": "code",
   "execution_count": 11,
   "metadata": {},
   "outputs": [
    {
     "data": {
      "text/plain": [
       "64542.5"
      ]
     },
     "execution_count": 11,
     "metadata": {},
     "output_type": "execute_result"
    }
   ],
   "source": [
    "from math import sqrt\n",
    "\n",
    "\n",
    "euclidian=0\n",
    "for i in range(len(viewsavg3)):\n",
    "        euclidian=(abs(viewsavg3[i]-viewsavg1[i]))**2\n",
    "euclidian=sqrt(euclidian)\n",
    "euclidian"
   ]
  },
  {
   "cell_type": "code",
   "execution_count": 12,
   "metadata": {},
   "outputs": [
    {
     "data": {
      "text/plain": [
       "6596001.0"
      ]
     },
     "execution_count": 12,
     "metadata": {},
     "output_type": "execute_result"
    }
   ],
   "source": [
    "supremum=0\n",
    "\n",
    "for i in range(len(viewsavg1)):\n",
    "        supremum=max(supremum,abs(viewsavg1[i]-viewsavg3[i]))\n",
    "\n",
    "supremum"
   ]
  },
  {
   "cell_type": "code",
   "execution_count": null,
   "metadata": {},
   "outputs": [],
   "source": []
  }
 ],
 "metadata": {
  "kernelspec": {
   "display_name": "Python 3.10.6 64-bit",
   "language": "python",
   "name": "python3"
  },
  "language_info": {
   "codemirror_mode": {
    "name": "ipython",
    "version": 3
   },
   "file_extension": ".py",
   "mimetype": "text/x-python",
   "name": "python",
   "nbconvert_exporter": "python",
   "pygments_lexer": "ipython3",
   "version": "3.10.6"
  },
  "orig_nbformat": 4,
  "vscode": {
   "interpreter": {
    "hash": "916dbcbb3f70747c44a77c7bcd40155683ae19c65e1c03b4aa3499c5328201f1"
   }
  }
 },
 "nbformat": 4,
 "nbformat_minor": 2
}
