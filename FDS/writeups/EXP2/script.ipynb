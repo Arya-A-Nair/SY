{
 "cells": [
  {
   "cell_type": "code",
   "execution_count": 43,
   "metadata": {},
   "outputs": [
    {
     "data": {
      "text/html": [
       "<div>\n",
       "<style scoped>\n",
       "    .dataframe tbody tr th:only-of-type {\n",
       "        vertical-align: middle;\n",
       "    }\n",
       "\n",
       "    .dataframe tbody tr th {\n",
       "        vertical-align: top;\n",
       "    }\n",
       "\n",
       "    .dataframe thead th {\n",
       "        text-align: right;\n",
       "    }\n",
       "</style>\n",
       "<table border=\"1\" class=\"dataframe\">\n",
       "  <thead>\n",
       "    <tr style=\"text-align: right;\">\n",
       "      <th></th>\n",
       "      <th>Country</th>\n",
       "      <th>Channel Name</th>\n",
       "      <th>Category</th>\n",
       "      <th>Main Video Category</th>\n",
       "      <th>username</th>\n",
       "      <th>followers</th>\n",
       "      <th>Main topic</th>\n",
       "      <th>More topics</th>\n",
       "      <th>Likes</th>\n",
       "      <th>Boost Index</th>\n",
       "      <th>...</th>\n",
       "      <th>Views</th>\n",
       "      <th>Views Avg.</th>\n",
       "      <th>Avg. 1 Day</th>\n",
       "      <th>Avg. 3 Day</th>\n",
       "      <th>Avg. 7 Day</th>\n",
       "      <th>Avg. 14 Day</th>\n",
       "      <th>Avg. 30 day</th>\n",
       "      <th>Avg. 60 day</th>\n",
       "      <th>Comments Avg</th>\n",
       "      <th>Youtube Link</th>\n",
       "    </tr>\n",
       "  </thead>\n",
       "  <tbody>\n",
       "    <tr>\n",
       "      <th>0</th>\n",
       "      <td>IN</td>\n",
       "      <td>T-Series</td>\n",
       "      <td>Gaming &amp; Apps</td>\n",
       "      <td>Music</td>\n",
       "      <td>T-Series</td>\n",
       "      <td>220000000</td>\n",
       "      <td>Music of Asia</td>\n",
       "      <td>Entertainment,Music of Asia,Music,Movies</td>\n",
       "      <td>1.602680e+09</td>\n",
       "      <td>83</td>\n",
       "      <td>...</td>\n",
       "      <td>195660744416</td>\n",
       "      <td>2.095329e+06</td>\n",
       "      <td>1.522448e+05</td>\n",
       "      <td>2134569.625</td>\n",
       "      <td>1.809830e+06</td>\n",
       "      <td>2.306178e+06</td>\n",
       "      <td>1.676330e+06</td>\n",
       "      <td>2.295416e+06</td>\n",
       "      <td>4493.984146</td>\n",
       "      <td>UCq-Fj5jknLsUf-MWSy4_brA</td>\n",
       "    </tr>\n",
       "    <tr>\n",
       "      <th>1</th>\n",
       "      <td>US</td>\n",
       "      <td>ABCkidTV - Nursery Rhymes</td>\n",
       "      <td>Gaming &amp; Apps</td>\n",
       "      <td>Education</td>\n",
       "      <td>ABCkidTV - Nursery Rhymes</td>\n",
       "      <td>138000000</td>\n",
       "      <td>Movies</td>\n",
       "      <td>Entertainment,Music,Movies</td>\n",
       "      <td>2.209901e+08</td>\n",
       "      <td>63</td>\n",
       "      <td>...</td>\n",
       "      <td>133025325473</td>\n",
       "      <td>7.027126e+07</td>\n",
       "      <td>1.837916e+06</td>\n",
       "      <td>1837916.000</td>\n",
       "      <td>4.891832e+06</td>\n",
       "      <td>7.052576e+06</td>\n",
       "      <td>1.265433e+07</td>\n",
       "      <td>1.572284e+07</td>\n",
       "      <td>146.700252</td>\n",
       "      <td>UCbCmjCuTUZos6Inko4u57UQ</td>\n",
       "    </tr>\n",
       "    <tr>\n",
       "      <th>2</th>\n",
       "      <td>IN</td>\n",
       "      <td>SET India</td>\n",
       "      <td>Gaming &amp; Apps</td>\n",
       "      <td>Shows</td>\n",
       "      <td>SET India</td>\n",
       "      <td>137000000</td>\n",
       "      <td>Movies</td>\n",
       "      <td>Entertainment,TV shows,Music,Movies</td>\n",
       "      <td>1.748752e+08</td>\n",
       "      <td>79</td>\n",
       "      <td>...</td>\n",
       "      <td>121741739317</td>\n",
       "      <td>1.095729e+05</td>\n",
       "      <td>NaN</td>\n",
       "      <td>586040.000</td>\n",
       "      <td>2.801276e+05</td>\n",
       "      <td>3.437881e+05</td>\n",
       "      <td>3.536019e+05</td>\n",
       "      <td>3.220336e+05</td>\n",
       "      <td>76.244316</td>\n",
       "      <td>UCpEhnqL0y41EpW2TvWAHD7Q</td>\n",
       "    </tr>\n",
       "    <tr>\n",
       "      <th>3</th>\n",
       "      <td>US</td>\n",
       "      <td>PewDiePie</td>\n",
       "      <td>Gaming &amp; Apps</td>\n",
       "      <td>Gaming</td>\n",
       "      <td>PewDiePie</td>\n",
       "      <td>111000000</td>\n",
       "      <td>Lifestyle</td>\n",
       "      <td>Gaming,Action game,Lifestyle,Action-adventure ...</td>\n",
       "      <td>2.191406e+09</td>\n",
       "      <td>88</td>\n",
       "      <td>...</td>\n",
       "      <td>28424113942</td>\n",
       "      <td>7.718345e+06</td>\n",
       "      <td>NaN</td>\n",
       "      <td>NaN</td>\n",
       "      <td>3.497395e+06</td>\n",
       "      <td>3.094440e+06</td>\n",
       "      <td>3.620274e+06</td>\n",
       "      <td>4.454120e+06</td>\n",
       "      <td>35839.781350</td>\n",
       "      <td>UC-lHJZR3Gqxm24_Vd_AJ5Yw</td>\n",
       "    </tr>\n",
       "    <tr>\n",
       "      <th>4</th>\n",
       "      <td>US</td>\n",
       "      <td>MrBeast</td>\n",
       "      <td>Gaming &amp; Apps</td>\n",
       "      <td>Entertainment</td>\n",
       "      <td>MrBeast</td>\n",
       "      <td>98100000</td>\n",
       "      <td>Lifestyle</td>\n",
       "      <td>Entertainment,Lifestyle,Technology</td>\n",
       "      <td>1.731833e+09</td>\n",
       "      <td>60</td>\n",
       "      <td>...</td>\n",
       "      <td>16242634269</td>\n",
       "      <td>9.876250e+07</td>\n",
       "      <td>NaN</td>\n",
       "      <td>NaN</td>\n",
       "      <td>2.994102e+07</td>\n",
       "      <td>2.994102e+07</td>\n",
       "      <td>2.994102e+07</td>\n",
       "      <td>5.343473e+07</td>\n",
       "      <td>113432.373700</td>\n",
       "      <td>UCX6OQ3DkcsbYNE6H8uQQuVA</td>\n",
       "    </tr>\n",
       "  </tbody>\n",
       "</table>\n",
       "<p>5 rows × 22 columns</p>\n",
       "</div>"
      ],
      "text/plain": [
       "  Country               Channel Name       Category Main Video Category  \\\n",
       "0      IN                   T-Series  Gaming & Apps               Music   \n",
       "1      US  ABCkidTV - Nursery Rhymes  Gaming & Apps           Education   \n",
       "2      IN                  SET India  Gaming & Apps               Shows   \n",
       "3      US                  PewDiePie  Gaming & Apps              Gaming   \n",
       "4      US                    MrBeast  Gaming & Apps       Entertainment   \n",
       "\n",
       "                    username  followers     Main topic  \\\n",
       "0                   T-Series  220000000  Music of Asia   \n",
       "1  ABCkidTV - Nursery Rhymes  138000000         Movies   \n",
       "2                  SET India  137000000         Movies   \n",
       "3                  PewDiePie  111000000      Lifestyle   \n",
       "4                    MrBeast   98100000      Lifestyle   \n",
       "\n",
       "                                         More topics         Likes  \\\n",
       "0           Entertainment,Music of Asia,Music,Movies  1.602680e+09   \n",
       "1                         Entertainment,Music,Movies  2.209901e+08   \n",
       "2                Entertainment,TV shows,Music,Movies  1.748752e+08   \n",
       "3  Gaming,Action game,Lifestyle,Action-adventure ...  2.191406e+09   \n",
       "4                 Entertainment,Lifestyle,Technology  1.731833e+09   \n",
       "\n",
       "   Boost Index  ...         Views    Views Avg.    Avg. 1 Day   Avg. 3 Day  \\\n",
       "0           83  ...  195660744416  2.095329e+06  1.522448e+05  2134569.625   \n",
       "1           63  ...  133025325473  7.027126e+07  1.837916e+06  1837916.000   \n",
       "2           79  ...  121741739317  1.095729e+05           NaN   586040.000   \n",
       "3           88  ...   28424113942  7.718345e+06           NaN          NaN   \n",
       "4           60  ...   16242634269  9.876250e+07           NaN          NaN   \n",
       "\n",
       "     Avg. 7 Day   Avg. 14 Day   Avg. 30 day   Avg. 60 day   Comments Avg  \\\n",
       "0  1.809830e+06  2.306178e+06  1.676330e+06  2.295416e+06    4493.984146   \n",
       "1  4.891832e+06  7.052576e+06  1.265433e+07  1.572284e+07     146.700252   \n",
       "2  2.801276e+05  3.437881e+05  3.536019e+05  3.220336e+05      76.244316   \n",
       "3  3.497395e+06  3.094440e+06  3.620274e+06  4.454120e+06   35839.781350   \n",
       "4  2.994102e+07  2.994102e+07  2.994102e+07  5.343473e+07  113432.373700   \n",
       "\n",
       "               Youtube Link  \n",
       "0  UCq-Fj5jknLsUf-MWSy4_brA  \n",
       "1  UCbCmjCuTUZos6Inko4u57UQ  \n",
       "2  UCpEhnqL0y41EpW2TvWAHD7Q  \n",
       "3  UC-lHJZR3Gqxm24_Vd_AJ5Yw  \n",
       "4  UCX6OQ3DkcsbYNE6H8uQQuVA  \n",
       "\n",
       "[5 rows x 22 columns]"
      ]
     },
     "execution_count": 43,
     "metadata": {},
     "output_type": "execute_result"
    }
   ],
   "source": [
    "import pandas as pd\n",
    "\n",
    "df= pd.read_csv(\"data.csv\")\n",
    "follower_list=df[\"followers\"].tolist()\n",
    "\n",
    "df.head()"
   ]
  },
  {
   "cell_type": "code",
   "execution_count": 44,
   "metadata": {},
   "outputs": [
    {
     "name": "stdout",
     "output_type": "stream",
     "text": [
      "Mean- 49529754.95915986\n"
     ]
    }
   ],
   "source": [
    "sum=0\n",
    "for i in follower_list:\n",
    "    sum=sum+i\n",
    "mean=sum/len(follower_list)\n",
    "print(f\"Mean- {mean}\")"
   ]
  },
  {
   "cell_type": "code",
   "execution_count": 45,
   "metadata": {},
   "outputs": [
    {
     "name": "stdout",
     "output_type": "stream",
     "text": [
      "Median- 41300000\n"
     ]
    }
   ],
   "source": [
    "follower_list.sort()\n",
    "if(len(follower_list)%2==0):\n",
    "    median=(follower_list[len(follower_list)//2]+follower_list[len(follower_list)//2-1])/2\n",
    "else:\n",
    "    median=follower_list[len(follower_list)//2]\n",
    "print(f\"Median- {median}\")"
   ]
  },
  {
   "cell_type": "code",
   "execution_count": 46,
   "metadata": {},
   "outputs": [
    {
     "name": "stdout",
     "output_type": "stream",
     "text": [
      "Mode- 37400000\n"
     ]
    }
   ],
   "source": [
    "frequency={}\n",
    "for i in follower_list:\n",
    "    if i in frequency:\n",
    "        frequency[i]=frequency[i]+1\n",
    "    else:\n",
    "        frequency[i]=1\n",
    "\n",
    "m=0\n",
    "for i in frequency:\n",
    "    if(frequency[i]>m):\n",
    "        m=frequency[i]\n",
    "        element=i\n",
    "\n",
    "print(f\"Mode- {element}\")"
   ]
  },
  {
   "cell_type": "code",
   "execution_count": 47,
   "metadata": {},
   "outputs": [
    {
     "name": "stdout",
     "output_type": "stream",
     "text": [
      "Variance- 818092591888613.8\n"
     ]
    }
   ],
   "source": [
    "# find variance of follower_list\n",
    "variance=0\n",
    "for i in follower_list:\n",
    "    variance=variance+(i-mean)**2\n",
    "variance=variance/len(follower_list)\n",
    "print(f\"Variance- {variance}\")"
   ]
  },
  {
   "cell_type": "code",
   "execution_count": 48,
   "metadata": {},
   "outputs": [
    {
     "name": "stdout",
     "output_type": "stream",
     "text": [
      "Standard Deviation- 28602317.946079366\n"
     ]
    }
   ],
   "source": [
    "# find standard deviation of follower_list\n",
    "standard_deviation=variance**0.5\n",
    "print(f\"Standard Deviation- {standard_deviation}\")"
   ]
  },
  {
   "cell_type": "code",
   "execution_count": 49,
   "metadata": {},
   "outputs": [
    {
     "name": "stdout",
     "output_type": "stream",
     "text": [
      "Median Deviation- 16742707.117852975\n"
     ]
    }
   ],
   "source": [
    "# find median deviation of follower_list\n",
    "median_deviation=0\n",
    "for i in follower_list:\n",
    "    median_deviation=median_deviation+abs(i-median)\n",
    "median_deviation=median_deviation/len(follower_list)\n",
    "print(f\"Median Deviation- {median_deviation}\")"
   ]
  },
  {
   "cell_type": "code",
   "execution_count": 50,
   "metadata": {},
   "outputs": [
    {
     "name": "stdout",
     "output_type": "stream",
     "text": [
      "Standard Error- 977036.5690595189\n"
     ]
    }
   ],
   "source": [
    "standard_error=standard_deviation/(len(follower_list)**0.5)\n",
    "print(f\"Standard Error- {standard_error}\")"
   ]
  },
  {
   "cell_type": "code",
   "execution_count": null,
   "metadata": {},
   "outputs": [],
   "source": []
  }
 ],
 "metadata": {
  "kernelspec": {
   "display_name": "Python 3.10.7 64-bit",
   "language": "python",
   "name": "python3"
  },
  "language_info": {
   "codemirror_mode": {
    "name": "ipython",
    "version": 3
   },
   "file_extension": ".py",
   "mimetype": "text/x-python",
   "name": "python",
   "nbconvert_exporter": "python",
   "pygments_lexer": "ipython3",
   "version": "3.10.7"
  },
  "orig_nbformat": 4,
  "vscode": {
   "interpreter": {
    "hash": "a7dbb88c84ecda04e2dfa8176cb6708abf8c95c32934f510df16d1a1f4945387"
   }
  }
 },
 "nbformat": 4,
 "nbformat_minor": 2
}
