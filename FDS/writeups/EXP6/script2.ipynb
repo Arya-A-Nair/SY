{
 "cells": [
  {
   "cell_type": "code",
   "execution_count": 26,
   "metadata": {},
   "outputs": [],
   "source": [
    "with open(\"text1.txt\",'r') as txt1:\n",
    "    text1string=txt1.read()\n",
    "\n",
    "with open(\"text2.txt\",'r') as txt2:\n",
    "    text2string=txt2.read()\n",
    "\n"
   ]
  },
  {
   "cell_type": "code",
   "execution_count": 36,
   "metadata": {},
   "outputs": [
    {
     "data": {
      "text/plain": [
       "['in',\n",
       " 'a',\n",
       " 'Michael',\n",
       " 'pace',\n",
       " 'baby',\n",
       " 'side',\n",
       " 'flag,',\n",
       " 'likes',\n",
       " '-',\n",
       " 'his',\n",
       " 'But',\n",
       " 'all',\n",
       " 'chase',\n",
       " 'early',\n",
       " 'by',\n",
       " 'course',\n",
       " '–',\n",
       " 'is',\n",
       " 'he',\n",
       " 'drive',\n",
       " 'but',\n",
       " 'boy',\n",
       " 'loose',\n",
       " 'with',\n",
       " 'history',\n",
       " 'and',\n",
       " 'more',\n",
       " 'Formula',\n",
       " 'just',\n",
       " 'lead',\n",
       " 'can',\n",
       " 'now',\n",
       " 'playful',\n",
       " 'achievement',\n",
       " 'for',\n",
       " 'spot',\n",
       " 'had',\n",
       " 'Bull,',\n",
       " 'raised',\n",
       " 'drivers',\n",
       " 'Vettel',\n",
       " 'too',\n",
       " 'revival,',\n",
       " 'pure',\n",
       " 'to',\n",
       " 'time',\n",
       " 'was',\n",
       " 'like',\n",
       " 'In',\n",
       " 'from',\n",
       " 'the',\n",
       " 'karaoke',\n",
       " 'car.',\n",
       " 'face',\n",
       " 'has',\n",
       " 'been',\n",
       " 'victory',\n",
       " 'let',\n",
       " 'Horse,',\n",
       " 'one-finger',\n",
       " 'streak,',\n",
       " 'won',\n",
       " 'front',\n",
       " 'Beatles',\n",
       " 'trademark',\n",
       " 'two',\n",
       " \"F1's\",\n",
       " 'hero,',\n",
       " 'then',\n",
       " 'chequered',\n",
       " 'salute.',\n",
       " 'Born',\n",
       " '1',\n",
       " 'competitive',\n",
       " 'Schumacher.',\n",
       " 'known',\n",
       " 'poster',\n",
       " 'of',\n",
       " 'than']"
      ]
     },
     "execution_count": 36,
     "metadata": {},
     "output_type": "execute_result"
    }
   ],
   "source": [
    "\n",
    "f1=set(text1string.split(' '))\n",
    "f1org=f1.copy()\n",
    "f2=set(text2string.split(' '))\n",
    "f2org=f2.copy()\n",
    "\n",
    "common=f1.intersection(f2)\n",
    "common=list(common)\n",
    "common"
   ]
  },
  {
   "cell_type": "code",
   "execution_count": 37,
   "metadata": {},
   "outputs": [],
   "source": [
    "a=[]\n",
    "b=[]\n",
    "f1=list(map(str,text1string.split(' ')))\n",
    "f2=list(map(str,text2string.split(' ')))\n",
    "\n",
    "\n",
    "for i in common:\n",
    "    a+=[f1.count(i)]\n",
    "    b+=[f2.count(i)]\n"
   ]
  },
  {
   "cell_type": "code",
   "execution_count": 38,
   "metadata": {},
   "outputs": [
    {
     "name": "stdout",
     "output_type": "stream",
     "text": [
      "216\n"
     ]
    }
   ],
   "source": [
    "XY=0\n",
    "\n",
    "for i in range(len(a)):\n",
    "    XY+=a[i]*b[i]\n",
    "\n",
    "print(XY)"
   ]
  },
  {
   "cell_type": "code",
   "execution_count": 39,
   "metadata": {},
   "outputs": [
    {
     "name": "stdout",
     "output_type": "stream",
     "text": [
      "14.933184523068078\n"
     ]
    }
   ],
   "source": [
    "modX=0\n",
    "for i in range(len(a)):\n",
    "    modX+=a[i]**2\n",
    "modX=modX**0.5\n",
    "print(modX)"
   ]
  },
  {
   "cell_type": "code",
   "execution_count": 40,
   "metadata": {},
   "outputs": [
    {
     "name": "stdout",
     "output_type": "stream",
     "text": [
      "14.491376746189438\n"
     ]
    }
   ],
   "source": [
    "modY=0\n",
    "for i in range(len(b)):\n",
    "    modY+=b[i]**2\n",
    "modY=modY**0.5\n",
    "print(modY)"
   ]
  },
  {
   "cell_type": "code",
   "execution_count": 43,
   "metadata": {},
   "outputs": [
    {
     "name": "stdout",
     "output_type": "stream",
     "text": [
      "Cosine similarity: 0.9981404876347485\n"
     ]
    }
   ],
   "source": [
    "cosineSim=XY/(modY*modX)\n",
    "print(f\"Cosine similarity: {cosineSim}\")"
   ]
  },
  {
   "cell_type": "code",
   "execution_count": null,
   "metadata": {},
   "outputs": [],
   "source": []
  }
 ],
 "metadata": {
  "kernelspec": {
   "display_name": "Python 3.10.6 64-bit",
   "language": "python",
   "name": "python3"
  },
  "language_info": {
   "codemirror_mode": {
    "name": "ipython",
    "version": 3
   },
   "file_extension": ".py",
   "mimetype": "text/x-python",
   "name": "python",
   "nbconvert_exporter": "python",
   "pygments_lexer": "ipython3",
   "version": "3.10.6"
  },
  "orig_nbformat": 4,
  "vscode": {
   "interpreter": {
    "hash": "916dbcbb3f70747c44a77c7bcd40155683ae19c65e1c03b4aa3499c5328201f1"
   }
  }
 },
 "nbformat": 4,
 "nbformat_minor": 2
}
