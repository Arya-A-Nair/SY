{
 "cells": [
  {
   "cell_type": "code",
   "execution_count": 1,
   "metadata": {},
   "outputs": [],
   "source": [
    "with open(\"text1.txt\",'r') as txt1:\n",
    "    text1string=txt1.read()\n",
    "\n",
    "with open(\"text2.txt\",'r') as txt2:\n",
    "    text2string=txt2.read()\n",
    "\n"
   ]
  },
  {
   "cell_type": "code",
   "execution_count": 2,
   "metadata": {},
   "outputs": [
    {
     "data": {
      "text/plain": [
       "['for',\n",
       " 'history',\n",
       " 'poster',\n",
       " 'too',\n",
       " 'drive',\n",
       " 'all',\n",
       " 'won',\n",
       " 'than',\n",
       " 'pace',\n",
       " 'Michael',\n",
       " 'trademark',\n",
       " '–',\n",
       " 'karaoke',\n",
       " 'with',\n",
       " 'flag,',\n",
       " '-',\n",
       " 'streak,',\n",
       " 'in',\n",
       " 'But',\n",
       " 'been',\n",
       " 'loose',\n",
       " 'a',\n",
       " 'his',\n",
       " 'achievement',\n",
       " 'victory',\n",
       " 'like',\n",
       " 'let',\n",
       " 'drivers',\n",
       " 'revival,',\n",
       " 'to',\n",
       " 'playful',\n",
       " 'side',\n",
       " 'from',\n",
       " 'pure',\n",
       " 'lead',\n",
       " 'spot',\n",
       " 'course',\n",
       " 'by',\n",
       " 'one-finger',\n",
       " 'hero,',\n",
       " 'baby',\n",
       " 'chase',\n",
       " 'front',\n",
       " 'likes',\n",
       " 'of',\n",
       " 'time',\n",
       " 'Schumacher.',\n",
       " '1',\n",
       " 'had',\n",
       " 'is',\n",
       " 'Formula',\n",
       " 'chequered',\n",
       " 'the',\n",
       " 'raised',\n",
       " 'was',\n",
       " 'Born',\n",
       " 'can',\n",
       " 'Vettel',\n",
       " 'and',\n",
       " 'just',\n",
       " 'he',\n",
       " 'more',\n",
       " \"F1's\",\n",
       " 'face',\n",
       " 'Horse,',\n",
       " 'car.',\n",
       " 'now',\n",
       " 'In',\n",
       " 'two',\n",
       " 'salute.',\n",
       " 'known',\n",
       " 'Bull,',\n",
       " 'Beatles',\n",
       " 'then',\n",
       " 'early',\n",
       " 'boy',\n",
       " 'has',\n",
       " 'competitive',\n",
       " 'but']"
      ]
     },
     "execution_count": 2,
     "metadata": {},
     "output_type": "execute_result"
    }
   ],
   "source": [
    "\n",
    "f1=set(text1string.split(' '))\n",
    "f1org=f1.copy()\n",
    "f2=set(text2string.split(' '))\n",
    "f2org=f2.copy()\n",
    "\n",
    "common=f1.intersection(f2)\n",
    "common=list(common)\n",
    "common"
   ]
  },
  {
   "cell_type": "code",
   "execution_count": 3,
   "metadata": {},
   "outputs": [],
   "source": [
    "a=[]\n",
    "b=[]\n",
    "f1=list(map(str,text1string.split(' ')))\n",
    "f2=list(map(str,text2string.split(' ')))\n",
    "\n",
    "\n",
    "for i in common:\n",
    "    a+=[f1.count(i)]\n",
    "    b+=[f2.count(i)]\n"
   ]
  },
  {
   "cell_type": "code",
   "execution_count": 4,
   "metadata": {},
   "outputs": [
    {
     "name": "stdout",
     "output_type": "stream",
     "text": [
      "216\n"
     ]
    }
   ],
   "source": [
    "XY=0\n",
    "\n",
    "for i in range(len(a)):\n",
    "    XY+=a[i]*b[i]\n",
    "\n",
    "print(XY)"
   ]
  },
  {
   "cell_type": "code",
   "execution_count": 5,
   "metadata": {},
   "outputs": [
    {
     "name": "stdout",
     "output_type": "stream",
     "text": [
      "14.933184523068078\n"
     ]
    }
   ],
   "source": [
    "modX=0\n",
    "for i in range(len(a)):\n",
    "    modX+=a[i]**2\n",
    "modX=modX**0.5\n",
    "print(modX)"
   ]
  },
  {
   "cell_type": "code",
   "execution_count": 6,
   "metadata": {},
   "outputs": [
    {
     "name": "stdout",
     "output_type": "stream",
     "text": [
      "14.491376746189438\n"
     ]
    }
   ],
   "source": [
    "modY=0\n",
    "for i in range(len(b)):\n",
    "    modY+=b[i]**2\n",
    "modY=modY**0.5\n",
    "print(modY)"
   ]
  },
  {
   "cell_type": "code",
   "execution_count": 7,
   "metadata": {},
   "outputs": [
    {
     "name": "stdout",
     "output_type": "stream",
     "text": [
      "Cosine similarity: 0.9981404876347485\n"
     ]
    }
   ],
   "source": [
    "cosineSim=XY/(modY*modX)\n",
    "print(f\"Cosine similarity: {cosineSim}\")"
   ]
  },
  {
   "cell_type": "code",
   "execution_count": null,
   "metadata": {},
   "outputs": [],
   "source": []
  }
 ],
 "metadata": {
  "kernelspec": {
   "display_name": "Python 3.10.6 64-bit",
   "language": "python",
   "name": "python3"
  },
  "language_info": {
   "codemirror_mode": {
    "name": "ipython",
    "version": 3
   },
   "file_extension": ".py",
   "mimetype": "text/x-python",
   "name": "python",
   "nbconvert_exporter": "python",
   "pygments_lexer": "ipython3",
   "version": "3.10.6"
  },
  "orig_nbformat": 4,
  "vscode": {
   "interpreter": {
    "hash": "916dbcbb3f70747c44a77c7bcd40155683ae19c65e1c03b4aa3499c5328201f1"
   }
  }
 },
 "nbformat": 4,
 "nbformat_minor": 2
}
