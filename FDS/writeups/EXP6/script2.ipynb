{
 "cells": [
  {
   "cell_type": "code",
   "execution_count": 8,
   "metadata": {},
   "outputs": [],
   "source": [
    "with open(\"text1.txt\",'r') as txt1:\n",
    "    text1string=txt1.read()\n",
    "\n",
    "with open(\"text2.txt\",'r') as txt2:\n",
    "    text2string=txt2.read()\n",
    "\n"
   ]
  },
  {
   "cell_type": "code",
   "execution_count": 9,
   "metadata": {},
   "outputs": [
    {
     "data": {
      "text/plain": [
       "['',\n",
       " 'DialogTitle',\n",
       " '({\\n',\n",
       " '<div>\\n',\n",
       " '<IconButton\\n',\n",
       " '=>',\n",
       " 'null}\\n',\n",
       " 'dividers>\\n',\n",
       " 'default',\n",
       " 'aria-label=\"close\"\\n',\n",
       " 'top:',\n",
       " '\"@mui/material/Dialog\";\\nimport',\n",
       " 'BootstrapDialogTitle',\n",
       " 'setOpen(false);\\n',\n",
       " 'BootstrapDialog',\n",
       " '\"&',\n",
       " '{onClose',\n",
       " 'onClick={onClose}\\n',\n",
       " '<DialogTitle',\n",
       " '};\\n\\n',\n",
       " 'import',\n",
       " ');\\n};\\n\\nexport',\n",
       " 'aria-labelledby=\"customized-dialog-title\"\\n',\n",
       " 'position:',\n",
       " 'children,',\n",
       " 'IconButton',\n",
       " 'onClose,',\n",
       " '}}\\n',\n",
       " '</DialogTitle>\\n',\n",
       " '<BootstrapDialogTitle\\n',\n",
       " ')',\n",
       " ');\\n}',\n",
       " 'theme',\n",
       " '{',\n",
       " 'props;\\n\\n',\n",
       " ':',\n",
       " 'handleClose',\n",
       " 'id=\"customized-dialog-title\"\\n',\n",
       " 'styled(Dialog)(({',\n",
       " 'styled',\n",
       " '>\\n',\n",
       " '.MuiDialogContent-root\":',\n",
       " '.MuiDialogActions-root\":',\n",
       " '})',\n",
       " '2',\n",
       " 'return',\n",
       " '{...other}>\\n',\n",
       " 'React.useState(true);\\n\\n',\n",
       " 'DialogContent',\n",
       " '8,\\n',\n",
       " '</div>\\n',\n",
       " 'theme.spacing(1),\\n',\n",
       " 'as',\n",
       " 'setOpen]',\n",
       " 'are',\n",
       " '...other',\n",
       " '0,',\n",
       " '\"true\");\\n',\n",
       " '\"react\";\\nimport',\n",
       " '<BootstrapDialog\\n',\n",
       " 'React',\n",
       " '(\\n',\n",
       " '\"@mui/material/styles\";\\nimport',\n",
       " '[open,',\n",
       " '\"@mui/material/IconButton\";\\nimport',\n",
       " '}}',\n",
       " 'padding:',\n",
       " 'sx={{',\n",
       " '()',\n",
       " '</BootstrapDialogTitle>\\n',\n",
       " '<DialogContent',\n",
       " '=',\n",
       " '</DialogContent>\\n',\n",
       " '\"@mui/material/DialogContent\";\\nimport',\n",
       " '*',\n",
       " '\"absolute\",\\n',\n",
       " 'open={open}\\n',\n",
       " 'sx={{\\n',\n",
       " '{\\n',\n",
       " 'onClose={handleClose}\\n',\n",
       " 'from',\n",
       " '{children}\\n',\n",
       " 'const',\n",
       " 'theme.spacing(2),\\n',\n",
       " 'p:',\n",
       " 'Dialog',\n",
       " '?',\n",
       " '</BootstrapDialog>\\n',\n",
       " 'm:',\n",
       " '},\\n',\n",
       " 'function',\n",
       " '\"@mui/material/DialogTitle\";\\nimport',\n",
       " '}',\n",
       " 'right:']"
      ]
     },
     "execution_count": 9,
     "metadata": {},
     "output_type": "execute_result"
    }
   ],
   "source": [
    "\n",
    "f1=set(text1string.split(' '))\n",
    "f1org=f1.copy()\n",
    "f2=set(text2string.split(' '))\n",
    "f2org=f2.copy()\n",
    "\n",
    "common=f1.intersection(f2)\n",
    "common=list(common)\n",
    "common"
   ]
  },
  {
   "cell_type": "code",
   "execution_count": 10,
   "metadata": {},
   "outputs": [],
   "source": [
    "a=[]\n",
    "b=[]\n",
    "f1=list(map(str,text1string.split(' ')))\n",
    "f2=list(map(str,text2string.split(' ')))\n",
    "\n",
    "\n",
    "for i in common:\n",
    "    a+=[f1.count(i)]\n",
    "    b+=[f2.count(i)]\n"
   ]
  },
  {
   "cell_type": "code",
   "execution_count": 11,
   "metadata": {},
   "outputs": [
    {
     "name": "stdout",
     "output_type": "stream",
     "text": [
      "147999\n"
     ]
    }
   ],
   "source": [
    "XY=0\n",
    "\n",
    "for i in range(len(a)):\n",
    "    XY+=a[i]*b[i]\n",
    "\n",
    "print(XY)"
   ]
  },
  {
   "cell_type": "code",
   "execution_count": 12,
   "metadata": {},
   "outputs": [
    {
     "name": "stdout",
     "output_type": "stream",
     "text": [
      "409.53143957454597\n"
     ]
    }
   ],
   "source": [
    "modX=0\n",
    "for i in range(len(a)):\n",
    "    modX+=a[i]**2\n",
    "modX=modX**0.5\n",
    "print(modX)"
   ]
  },
  {
   "cell_type": "code",
   "execution_count": 13,
   "metadata": {},
   "outputs": [
    {
     "name": "stdout",
     "output_type": "stream",
     "text": [
      "361.43879149864364\n"
     ]
    }
   ],
   "source": [
    "modY=0\n",
    "for i in range(len(b)):\n",
    "    modY+=b[i]**2\n",
    "modY=modY**0.5\n",
    "print(modY)"
   ]
  },
  {
   "cell_type": "code",
   "execution_count": 14,
   "metadata": {},
   "outputs": [
    {
     "name": "stdout",
     "output_type": "stream",
     "text": [
      "Cosine similarity: 0.9998544215601993\n"
     ]
    }
   ],
   "source": [
    "cosineSim=XY/(modY*modX)\n",
    "print(f\"Cosine similarity: {cosineSim}\")"
   ]
  },
  {
   "cell_type": "code",
   "execution_count": null,
   "metadata": {},
   "outputs": [],
   "source": []
  }
 ],
 "metadata": {
  "kernelspec": {
   "display_name": "Python 3.10.6 64-bit",
   "language": "python",
   "name": "python3"
  },
  "language_info": {
   "codemirror_mode": {
    "name": "ipython",
    "version": 3
   },
   "file_extension": ".py",
   "mimetype": "text/x-python",
   "name": "python",
   "nbconvert_exporter": "python",
   "pygments_lexer": "ipython3",
   "version": "3.10.6"
  },
  "orig_nbformat": 4,
  "vscode": {
   "interpreter": {
    "hash": "916dbcbb3f70747c44a77c7bcd40155683ae19c65e1c03b4aa3499c5328201f1"
   }
  }
 },
 "nbformat": 4,
 "nbformat_minor": 2
}
